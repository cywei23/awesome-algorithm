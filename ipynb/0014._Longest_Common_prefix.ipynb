{
 "cells": [
  {
   "cell_type": "markdown",
   "metadata": {},
   "source": [
    "# Problem: Longest Common Prefix\n",
    "\n",
    "## Difficulty: Easy\n",
    "\n",
    "- https://leetcode.com/problems/longest-common-prefix/\n",
    "\n",
    "```\n",
    "Write a function to find the longest common prefix string amongst an array of strings.\n",
    "\n",
    "If there is no common prefix, return an empty string \"\".\n",
    "\n",
    "Example 1:\n",
    "\n",
    "Input: [\"flower\",\"flow\",\"flight\"]\n",
    "Output: \"fl\"\n",
    "Example 2:\n",
    "\n",
    "Input: [\"dog\",\"racecar\",\"car\"]\n",
    "Output: \"\"\n",
    "Explanation: There is no common prefix among the input strings.\n",
    "Note:\n",
    "\n",
    "All given inputs are in lowercase letters a-z.\n",
    "```"
   ]
  },
  {
   "cell_type": "markdown",
   "metadata": {},
   "source": [
    "> Solution 1: Two for loops to return any string can pass logic"
   ]
  },
  {
   "cell_type": "code",
   "execution_count": 7,
   "metadata": {},
   "outputs": [
    {
     "name": "stdout",
     "output_type": "stream",
     "text": [
      "None\n",
      "None\n",
      "\n",
      "None\n"
     ]
    }
   ],
   "source": [
    "class Solution:\n",
    "    def longestCommonPrefix(self, strs):\n",
    "        \"\"\"\n",
    "        :type strs: List[str]\n",
    "        :rtype: str\n",
    "        \"\"\"\n",
    "        if not strs:\n",
    "            return ''\n",
    "        for i in range(len(strs[0])):\n",
    "            for str in strs:\n",
    "                if len(str)<=i or strs[0][i] != str[i]:\n",
    "                    return strs[0][:i]\n",
    "        return strs[0]\n",
    "\n",
    "s = Solution()\n",
    "input = [\"flower\",\"flow\",\"flight\"]\n",
    "print(s.longestCommonPrefix(input))\n",
    "input = [\"dog\",\"racecar\",\"car\"]\n",
    "print(s.longestCommonPrefix(input))\n",
    "input = []\n",
    "print(s.longestCommonPrefix(input))\n",
    "input = [\"flower\", \"flowers\"]\n",
    "print(s.longestCommonPrefix(input))"
   ]
  },
  {
   "cell_type": "markdown",
   "metadata": {},
   "source": [
    "> Solution 2: While loop & string.startswith()"
   ]
  },
  {
   "cell_type": "code",
   "execution_count": 21,
   "metadata": {},
   "outputs": [
    {
     "name": "stdout",
     "output_type": "stream",
     "text": [
      "fl\n",
      "\n",
      "\n"
     ]
    }
   ],
   "source": [
    "class Solution:\n",
    "    def longestCommonPrefix(self, strs):\n",
    "        \"\"\"\n",
    "        :type strs: List[str]\n",
    "        :rtype: str\n",
    "        \"\"\"\n",
    "        if not strs:\n",
    "            return ''\n",
    "        cp = [strs[0]] * len(strs)\n",
    "        for i in range(1, len(strs)):\n",
    "            while not strs[i].startswith(cp[i-1]):\n",
    "                cp[i-1] = cp[i-1][:-1]\n",
    "            cp[i] = cp[i-1]\n",
    "        return cp[i]\n",
    "s = Solution()\n",
    "input = [\"flower\",\"flow\",\"flight\"]\n",
    "print(s.longestCommonPrefix(input))\n",
    "input = [\"dog\",\"racecar\",\"car\"]\n",
    "print(s.longestCommonPrefix(input))\n",
    "input = []\n",
    "print(s.longestCommonPrefix(input))"
   ]
  },
  {
   "cell_type": "code",
   "execution_count": null,
   "metadata": {},
   "outputs": [],
   "source": []
  }
 ],
 "metadata": {
  "kernelspec": {
   "display_name": "Python 3",
   "language": "python",
   "name": "python3"
  },
  "language_info": {
   "codemirror_mode": {
    "name": "ipython",
    "version": 3
   },
   "file_extension": ".py",
   "mimetype": "text/x-python",
   "name": "python",
   "nbconvert_exporter": "python",
   "pygments_lexer": "ipython3",
   "version": "3.7.1"
  }
 },
 "nbformat": 4,
 "nbformat_minor": 2
}
