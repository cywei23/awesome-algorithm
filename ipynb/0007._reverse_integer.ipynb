{
 "cells": [
  {
   "cell_type": "markdown",
   "metadata": {},
   "source": [
    "# 7. Reverse Integer\n",
    "\n",
    "### Difficulty：Easy\n",
    "\n",
    "## Problem\n",
    "\n",
    " - https://leetcode.com/problems/Reverse-Integer\n",
    " \n",
    "```\n",
    "Given a 32-bit signed integer, reverse digits of an integer.\n",
    "\n",
    "Example 1:\n",
    "\n",
    "Input: 123\n",
    "Output: 321\n",
    "Example 2:\n",
    "\n",
    "Input: -123\n",
    "Output: -321\n",
    "Example 3:\n",
    "\n",
    "Input: 120\n",
    "Output: 21\n",
    "Note:\n",
    "Assume we are dealing with an environment which could only store integers within the 32-bit signed integer range: [−231,  231 − 1]. For the purpose of this problem, assume that your function returns 0 when the reversed integer overflows.\n",
    "```"
   ]
  },
  {
   "cell_type": "markdown",
   "metadata": {},
   "source": [
    "> Solution 1: string reverse [::-1]"
   ]
  },
  {
   "cell_type": "code",
   "execution_count": 11,
   "metadata": {},
   "outputs": [
    {
     "name": "stdout",
     "output_type": "stream",
     "text": [
      "21\n",
      "-654\n"
     ]
    }
   ],
   "source": [
    "class Solution:\n",
    "    def reverse(self, x):\n",
    "        \"\"\"\n",
    "        :type x: int\n",
    "        :rtype: int\n",
    "        \"\"\"\n",
    "        if x<0:\n",
    "            y = -int(str(x)[::-1][:-1])\n",
    "        else:\n",
    "            y = int(str(x)[::-1])\n",
    "        if -2**31 <= y <= 2**31:\n",
    "            return y\n",
    "        else:\n",
    "            return 0\n",
    "\n",
    "s = Solution()\n",
    "x = 120\n",
    "y = -456\n",
    "z = 10000000000000009\n",
    "print(s.reverse(x))\n",
    "print(s.reverse(y))\n",
    "print(s.reverse(z))"
   ]
  },
  {
   "cell_type": "markdown",
   "metadata": {},
   "source": [
    "> Solution 2: while loop with remainder calculator"
   ]
  },
  {
   "cell_type": "code",
   "execution_count": 17,
   "metadata": {},
   "outputs": [
    {
     "name": "stdout",
     "output_type": "stream",
     "text": [
      "21\n",
      "-654\n",
      "0\n"
     ]
    }
   ],
   "source": [
    "class Solution:\n",
    "    def reverse(self, x):\n",
    "        \"\"\"\n",
    "        :type x: int\n",
    "        :rtype: int\n",
    "        \"\"\"\n",
    "        num = 0\n",
    "        flag = 1\n",
    "        if x > 0:\n",
    "            flag = 1\n",
    "        else:\n",
    "            flag = -1\n",
    "        while x != 0:\n",
    "            num = num*10 + x%(10*flag)\n",
    "            x = int(x/10)\n",
    "        if num <= 0x7fffffff:\n",
    "            return num\n",
    "        else:\n",
    "            return 0\n",
    "\n",
    "s = Solution()\n",
    "x = 120\n",
    "y = -456\n",
    "z = 10000000000000009\n",
    "print(s.reverse(x))\n",
    "print(s.reverse(y))\n",
    "print(s.reverse(z))"
   ]
  },
  {
   "cell_type": "code",
   "execution_count": null,
   "metadata": {},
   "outputs": [],
   "source": []
  }
 ],
 "metadata": {
  "kernelspec": {
   "display_name": "Python 3",
   "language": "python",
   "name": "python3"
  },
  "language_info": {
   "codemirror_mode": {
    "name": "ipython",
    "version": 3
   },
   "file_extension": ".py",
   "mimetype": "text/x-python",
   "name": "python",
   "nbconvert_exporter": "python",
   "pygments_lexer": "ipython3",
   "version": "3.7.1"
  }
 },
 "nbformat": 4,
 "nbformat_minor": 2
}
