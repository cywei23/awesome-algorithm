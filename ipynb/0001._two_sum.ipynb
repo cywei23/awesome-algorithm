{
 "cells": [
  {
   "cell_type": "markdown",
   "metadata": {},
   "source": [
    "# 1. Two Sum\n",
    "\n",
    "## Problem：\n",
    "\n",
    " - https://leetcode.com/problems/two-sum/\n",
    "\n",
    "```\n",
    "Given an array of integers, return indices of the two numbers such that they add up to a specific target.\n",
    "\n",
    "You may assume that each input would have exactly one solution, and you may not use the same element twice.\n",
    "\n",
    "Example:\n",
    "\n",
    "Given nums = [2, 7, 11, 15], target = 9,\n",
    "\n",
    "Because nums[0] + nums[1] = 2 + 7 = 9,\n",
    "return [0, 1].\n",
    "```\n",
    "\n",
    "## Difficulty：Easy"
   ]
  },
  {
   "cell_type": "markdown",
   "metadata": {},
   "source": [
    "> Solution 1: for loop to search for first number only and use list.index()"
   ]
  },
  {
   "cell_type": "code",
   "execution_count": 28,
   "metadata": {},
   "outputs": [
    {
     "name": "stdout",
     "output_type": "stream",
     "text": [
      "[1, 3]\n",
      "None\n"
     ]
    }
   ],
   "source": [
    "class Solution(object):\n",
    "    def twoSum(self, nums, target):\n",
    "        \"\"\"\n",
    "        :type nums: List[int]\n",
    "        :type target: int\n",
    "        :rtype: List[int]\n",
    "        \"\"\"\n",
    "        for num in nums:\n",
    "            if target - num in nums and num is not target - num:\n",
    "                return [nums.index(num), nums.index(target-num)]\n",
    "\n",
    "# not use the same element twice\n",
    "nums = [4, 3, 15, 5]\n",
    "target = 8\n",
    "s = Solution()\n",
    "print(s.twoSum(nums, target))\n",
    "\n",
    "# use the same element twice\n",
    "nums = [3, 7, 3]\n",
    "target = 6\n",
    "s = Solution()\n",
    "print(s.twoSum(nums, target))"
   ]
  },
  {
   "cell_type": "markdown",
   "metadata": {},
   "source": [
    "> Solution 2: use dict"
   ]
  },
  {
   "cell_type": "code",
   "execution_count": 27,
   "metadata": {},
   "outputs": [
    {
     "name": "stdout",
     "output_type": "stream",
     "text": [
      "[1, 3]\n",
      "[0, 2]\n"
     ]
    }
   ],
   "source": [
    "class Solution(object):\n",
    "    def twoSum(self, nums, target):\n",
    "        \"\"\"\n",
    "        :type nums: List[int]\n",
    "        :type target: int\n",
    "        :rtype: List[int]\n",
    "        \"\"\"\n",
    "        lookup = {}\n",
    "        for i, j in enumerate(nums):\n",
    "            if target - j in lookup:\n",
    "                return [lookup[target - j], i]\n",
    "            lookup[j] = i\n",
    "            \n",
    "            \n",
    "# not use the same element twice\n",
    "nums = [4, 3, 15, 5]\n",
    "target = 8\n",
    "s = Solution()\n",
    "print(s.twoSum(nums, target))\n",
    "\n",
    "# use the same element twice\n",
    "nums = [3, 7, 3]\n",
    "target = 6\n",
    "s = Solution()\n",
    "print(s.twoSum(nums, target))"
   ]
  },
  {
   "cell_type": "markdown",
   "metadata": {},
   "source": [
    "> Solution 3: two for loops"
   ]
  },
  {
   "cell_type": "code",
   "execution_count": 29,
   "metadata": {},
   "outputs": [
    {
     "name": "stdout",
     "output_type": "stream",
     "text": [
      "[1, 3]\n",
      "[0, 2]\n"
     ]
    }
   ],
   "source": [
    "class Solution(object):\n",
    "    def twoSum(self, nums, target):\n",
    "        \"\"\"\n",
    "        :type nums: List[int]\n",
    "        :type target: int\n",
    "        :rtype: List[int]\n",
    "        \"\"\"\n",
    "        for i in range(len(nums)):\n",
    "            for j in range(i+1, len(nums)):\n",
    "                if nums[i]+nums[j] == target:\n",
    "                    return [i, j]\n",
    "            \n",
    "            \n",
    "# not use the same element twice\n",
    "nums = [4, 3, 15, 5]\n",
    "target = 8\n",
    "s = Solution()\n",
    "print(s.twoSum(nums, target))\n",
    "\n",
    "# use the same element twice\n",
    "nums = [3, 7, 3]\n",
    "target = 6\n",
    "s = Solution()\n",
    "print(s.twoSum(nums, target))"
   ]
  },
  {
   "cell_type": "markdown",
   "metadata": {},
   "source": [
    "> Solution 4: enumerate and dict"
   ]
  },
  {
   "cell_type": "code",
   "execution_count": 31,
   "metadata": {},
   "outputs": [
    {
     "name": "stdout",
     "output_type": "stream",
     "text": [
      "[1, 3]\n",
      "None\n"
     ]
    }
   ],
   "source": [
    "class Solution:\n",
    "    def twoSum(self, nums, target):\n",
    "        \"\"\"\n",
    "        :type nums: List[int]\n",
    "        :type target: int\n",
    "        :rtype: List[int]\n",
    "        \"\"\"\n",
    "        dict1 = {}\n",
    "        for k, i in enumerate(nums):\n",
    "            dict1[i] = k\n",
    "            if target - i in dict1 and i is not target - i:\n",
    "                return [dict1[target - i], dict1[i]]\n",
    "\n",
    "# not use the same element twice\n",
    "nums = [4, 3, 15, 5]\n",
    "target = 8\n",
    "s = Solution()\n",
    "print(s.twoSum(nums, target))\n",
    "\n",
    "# use the same element twice\n",
    "nums = [3, 7, 3]\n",
    "target = 6\n",
    "s = Solution()\n",
    "print(s.twoSum(nums, target))"
   ]
  },
  {
   "cell_type": "markdown",
   "metadata": {},
   "source": [
    "> Solution 5: enumearte and dict version 2, searching throught the rest of the list so can take the same element"
   ]
  },
  {
   "cell_type": "code",
   "execution_count": 32,
   "metadata": {},
   "outputs": [
    {
     "name": "stdout",
     "output_type": "stream",
     "text": [
      "[1, 3]\n",
      "[0, 2]\n"
     ]
    }
   ],
   "source": [
    "class Solution:\n",
    "    def twoSum(self, nums, target):\n",
    "        \"\"\"\n",
    "        :type nums: List[int]\n",
    "        :type target: int\n",
    "        :rtype: List[int]\n",
    "        \"\"\"\n",
    "        for k, i in enumerate(nums):\n",
    "            if target - i in nums[k + 1:]:\n",
    "                return [k, nums[k + 1:].index(target - i) + k + 1]\n",
    "\n",
    "# not use the same element twice\n",
    "nums = [4, 3, 15, 5]\n",
    "target = 8\n",
    "s = Solution()\n",
    "print(s.twoSum(nums, target))\n",
    "\n",
    "# use the same element twice\n",
    "nums = [3, 7, 3]\n",
    "target = 6\n",
    "s = Solution()\n",
    "print(s.twoSum(nums, target))   "
   ]
  }
 ],
 "metadata": {
  "kernelspec": {
   "display_name": "Python 3",
   "language": "python",
   "name": "python3"
  },
  "language_info": {
   "codemirror_mode": {
    "name": "ipython",
    "version": 3
   },
   "file_extension": ".py",
   "mimetype": "text/x-python",
   "name": "python",
   "nbconvert_exporter": "python",
   "pygments_lexer": "ipython3",
   "version": "3.7.1"
  }
 },
 "nbformat": 4,
 "nbformat_minor": 2
}
